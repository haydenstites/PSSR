{
 "cells": [
  {
   "cell_type": "code",
   "execution_count": null,
   "metadata": {},
   "outputs": [],
   "source": [
    "import torch\n",
    "import matplotlib.pyplot as plt\n",
    "from pssr.data import ImageDataset, PairedImageDataset\n",
    "from pssr.crappifiers import AdditiveGaussian, Poisson, Crappifier\n",
    "from pssr.models import ResUNet, ResUNetA\n",
    "from pssr.loss import SSIMLoss\n",
    "from pssr.train import train_paired"
   ]
  },
  {
   "cell_type": "code",
   "execution_count": null,
   "metadata": {},
   "outputs": [],
   "source": [
    "lr = 1e-3\n",
    "\n",
    "hr_res = 512\n",
    "lr_scale = 4"
   ]
  },
  {
   "cell_type": "code",
   "execution_count": null,
   "metadata": {},
   "outputs": [],
   "source": [
    "crappifier = Poisson(intensity=0.9, gain=-2, spread=0.1)\n",
    "# crappifier = AdditiveGaussian(intensity=11, gain=-2, spread=1)\n",
    "dataset = ImageDataset(\"testdata/EM/hr_crop\", hr_res, crappifier=crappifier)"
   ]
  },
  {
   "cell_type": "code",
   "execution_count": null,
   "metadata": {},
   "outputs": [],
   "source": [
    "model = ResUNet(\n",
    "    channels=1,\n",
    "    hidden=[64, 128, 256, 512, 1024],\n",
    "    scale=lr_scale,\n",
    "    depth=3,\n",
    ")\n",
    "\n",
    "# dilations = [\n",
    "#     [1,3,15,31],\n",
    "#     [1,3,15],\n",
    "#     [1,3],\n",
    "#     [1],\n",
    "#     [1],\n",
    "# ]\n",
    "# model = ResUNetA(\n",
    "#     channels=1,\n",
    "#     hidden=[64, 128, 256, 512, 1024],\n",
    "#     dilations=dilations,\n",
    "#     scale=lr_scale,\n",
    "#     depth=2,\n",
    "# )"
   ]
  },
  {
   "cell_type": "code",
   "execution_count": null,
   "metadata": {},
   "outputs": [],
   "source": [
    "batch_size = 16\n",
    "device = \"cuda\" if torch.cuda.is_available() else \"cpu\"\n",
    "\n",
    "kwargs = dict(\n",
    "    num_workers = 4,\n",
    "    pin_memory = True,\n",
    ")"
   ]
  },
  {
   "cell_type": "code",
   "execution_count": null,
   "metadata": {},
   "outputs": [],
   "source": [
    "loss_fn = SSIMLoss(mix=.8, ms=True)\n",
    "# loss_fn = torch.nn.MSELoss()\n",
    "optim = torch.optim.AdamW(model.parameters(), lr=lr)\n",
    "scheduler = torch.optim.lr_scheduler.ReduceLROnPlateau(optim, factor=0.1, patience=3, threshold=5e-3)\n",
    "\n",
    "losses = train_paired(\n",
    "    model=model,\n",
    "    dataset=dataset,\n",
    "    batch_size=batch_size,\n",
    "    loss_fn=loss_fn,\n",
    "    optim=optim,\n",
    "    epochs=5,\n",
    "    device=device,\n",
    "    scheduler=scheduler,\n",
    "    log_frequency=50,\n",
    "    dataloader_kwargs=kwargs,\n",
    ")"
   ]
  },
  {
   "cell_type": "code",
   "execution_count": null,
   "metadata": {},
   "outputs": [],
   "source": [
    "plt.plot(losses)"
   ]
  },
  {
   "cell_type": "code",
   "execution_count": null,
   "metadata": {},
   "outputs": [],
   "source": [
    "torch.save(model.state_dict(), f\"model_{hr_res//lr_scale}-{hr_res}_{losses[-1]:.3f}.pth\")"
   ]
  }
 ],
 "metadata": {
  "kernelspec": {
   "display_name": "base",
   "language": "python",
   "name": "python3"
  },
  "language_info": {
   "codemirror_mode": {
    "name": "ipython",
    "version": 3
   },
   "file_extension": ".py",
   "mimetype": "text/x-python",
   "name": "python",
   "nbconvert_exporter": "python",
   "pygments_lexer": "ipython3",
   "version": "3.11.4"
  }
 },
 "nbformat": 4,
 "nbformat_minor": 2
}
