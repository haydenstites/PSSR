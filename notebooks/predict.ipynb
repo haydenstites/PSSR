{
 "cells": [
  {
   "cell_type": "code",
   "execution_count": null,
   "metadata": {},
   "outputs": [],
   "source": [
    "import torch\n",
    "from pssr.data import ImageDataset, SlidingDataset, PairedImageDataset, PairedSlidingDataset\n",
    "from pssr.crappifiers import AdditiveGaussian, Poisson, SaltPepper, MultiCrappifier\n",
    "from pssr.models import ResUNet, RDResUNet, SwinIR\n",
    "from pssr.predict import predict_images"
   ]
  },
  {
   "cell_type": "markdown",
   "metadata": {},
   "source": [
    "# Using low-resolution images"
   ]
  },
  {
   "cell_type": "code",
   "execution_count": null,
   "metadata": {},
   "outputs": [],
   "source": [
    "test_data_path = \"your/path\" # Folder with low-resolution images to be upscaled\n",
    "model_path = \"your/path\" # Path to pretrained model\n",
    "\n",
    "# Set to same values as training notebook, ImageDataset infers that low-resolution data is being loaded\n",
    "# (If using SlidingDataset to load low-resolution images, instead set hr_res to hr_res/lr_scale and lr_scale to -1,\n",
    "# correct scale must still be specified to model)\n",
    "hr_res = 512\n",
    "lr_scale = 4\n",
    "n_frames = -1\n",
    "\n",
    "# Assuming the folder contains only testing images, we want to use all images\n",
    "val_split = 1"
   ]
  },
  {
   "cell_type": "code",
   "execution_count": null,
   "metadata": {},
   "outputs": [],
   "source": [
    "test_dataset = ImageDataset(test_data_path, hr_res, lr_scale, n_frames, val_split=val_split)"
   ]
  },
  {
   "cell_type": "code",
   "execution_count": null,
   "metadata": {},
   "outputs": [],
   "source": [
    "# Set same arguments as pretrained model\n",
    "model = ResUNet(\n",
    "    channels=1 if n_frames == -1 else n_frames,\n",
    "    scale=lr_scale,\n",
    ")\n",
    "model.load_state_dict(torch.load(model_path))\n",
    "\n",
    "device = \"cuda\" if torch.cuda.is_available() else \"cpu\""
   ]
  },
  {
   "cell_type": "code",
   "execution_count": null,
   "metadata": {},
   "outputs": [],
   "source": [
    "# Upscaled images will be saved to \"preds\" folder\n",
    "predict_images(model, test_dataset, device, out_dir=\"preds\")"
   ]
  },
  {
   "cell_type": "markdown",
   "metadata": {},
   "source": [
    "# Using paired high-low-resolution images for benchmarking"
   ]
  },
  {
   "cell_type": "code",
   "execution_count": null,
   "metadata": {},
   "outputs": [],
   "source": [
    "# Comment to run the rest of the notebook\n",
    "assert False"
   ]
  },
  {
   "cell_type": "code",
   "execution_count": null,
   "metadata": {},
   "outputs": [],
   "source": [
    "from pssr.predict import predict_collage, test_metrics"
   ]
  },
  {
   "cell_type": "code",
   "execution_count": null,
   "metadata": {},
   "outputs": [],
   "source": [
    "# Set to paths of aligned high-resolution and low-resolution images\n",
    "test_hr_path, test_lr_path = \"your/path\", \"your/path\"\n",
    "\n",
    "paired_dataset = PairedImageDataset(test_hr_path, test_lr_path, hr_res, lr_scale, n_frames)"
   ]
  },
  {
   "cell_type": "code",
   "execution_count": null,
   "metadata": {},
   "outputs": [],
   "source": [
    "# Normalizes image intensities for fair benchmarking, disable if strange results occur\n",
    "norm = True"
   ]
  },
  {
   "cell_type": "code",
   "execution_count": null,
   "metadata": {},
   "outputs": [],
   "source": [
    "predict_collage(model, paired_dataset, device, norm=norm, prefix=\"test\", out_dir=\"preds\")\n",
    "test_metrics(model, test_dataset, device, norm=norm)"
   ]
  }
 ],
 "metadata": {
  "kernelspec": {
   "display_name": "base",
   "language": "python",
   "name": "python3"
  },
  "language_info": {
   "codemirror_mode": {
    "name": "ipython",
    "version": 3
   },
   "file_extension": ".py",
   "mimetype": "text/x-python",
   "name": "python",
   "nbconvert_exporter": "python",
   "pygments_lexer": "ipython3",
   "version": "3.11.4"
  }
 },
 "nbformat": 4,
 "nbformat_minor": 2
}
