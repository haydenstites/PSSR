{
 "cells": [
  {
   "cell_type": "code",
   "execution_count": null,
   "metadata": {},
   "outputs": [],
   "source": [
    "import torch\n",
    "from pssr.crappifiers import AdditiveGaussian, Poisson, Crappifier\n",
    "from pssr.data import ImageDataset, PairedImageDataset\n",
    "from pssr.models import ResUNet\n",
    "from pssr.predict import predict_collage, predict_images, test_metrics"
   ]
  },
  {
   "cell_type": "code",
   "execution_count": null,
   "metadata": {},
   "outputs": [],
   "source": [
    "model_path = \"trained/ssim_resunet_0.12.pth\"\n",
    "hr_res = 512\n",
    "lr_scale = 4\n",
    "batch_size = 16\n",
    "\n",
    "crappifier = Poisson(intensity=0.9, gain=-2)\n",
    "\n",
    "device = \"cuda\" if torch.cuda.is_available() else \"cpu\""
   ]
  },
  {
   "cell_type": "code",
   "execution_count": null,
   "metadata": {},
   "outputs": [],
   "source": [
    "val_dataset = ImageDataset(\"testdata/EM/hr_crop\", hr_res, lr_scale, crappifier, rotation=False)\n",
    "test_dataset = PairedImageDataset(\"testdata/EM/pairs_align/hr\", \"testdata/EM/pairs_align/lr\")"
   ]
  },
  {
   "cell_type": "code",
   "execution_count": null,
   "metadata": {},
   "outputs": [],
   "source": [
    "model = ResUNet(\n",
    "    channels=1,\n",
    "    hidden=[64, 128, 256, 512, 1024],\n",
    "    scale=lr_scale,\n",
    "    depth=3,\n",
    ")"
   ]
  },
  {
   "cell_type": "code",
   "execution_count": null,
   "metadata": {},
   "outputs": [],
   "source": [
    "model.load_state_dict(torch.load(model_path))"
   ]
  },
  {
   "cell_type": "code",
   "execution_count": null,
   "metadata": {},
   "outputs": [],
   "source": [
    "predict_collage(model, val_dataset, device, prefix=\"val\")\n",
    "predict_collage(model, test_dataset, device, prefix=\"test\")"
   ]
  },
  {
   "cell_type": "code",
   "execution_count": null,
   "metadata": {},
   "outputs": [],
   "source": [
    "predict_images(model, test_dataset, device, out_dir=\"preds/outs\", norm=True)"
   ]
  },
  {
   "cell_type": "code",
   "execution_count": null,
   "metadata": {},
   "outputs": [],
   "source": [
    "test_metrics(model, test_dataset, device)"
   ]
  }
 ],
 "metadata": {
  "kernelspec": {
   "display_name": "base",
   "language": "python",
   "name": "python3"
  },
  "language_info": {
   "codemirror_mode": {
    "name": "ipython",
    "version": 3
   },
   "file_extension": ".py",
   "mimetype": "text/x-python",
   "name": "python",
   "nbconvert_exporter": "python",
   "pygments_lexer": "ipython3",
   "version": "3.11.4"
  }
 },
 "nbformat": 4,
 "nbformat_minor": 2
}
