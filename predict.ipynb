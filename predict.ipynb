{
 "cells": [
  {
   "cell_type": "code",
   "execution_count": 1,
   "metadata": {},
   "outputs": [],
   "source": [
    "import torch\n",
    "from pssr.crappifiers import Crappifier\n",
    "from pssr.data import ImageDataset, PairedImageDataset\n",
    "from pssr.models import ResUNet\n",
    "from pssr.predict import predict_collage, predict_images, test_metrics\n",
    "\n",
    "import numpy as np\n",
    "from PIL import Image"
   ]
  },
  {
   "cell_type": "code",
   "execution_count": 2,
   "metadata": {},
   "outputs": [],
   "source": [
    "device = \"cuda\" if torch.cuda.is_available() else \"cpu\""
   ]
  },
  {
   "cell_type": "code",
   "execution_count": 3,
   "metadata": {},
   "outputs": [],
   "source": [
    "n_images = 50\n",
    "lr_scale = 4"
   ]
  },
  {
   "cell_type": "code",
   "execution_count": 4,
   "metadata": {},
   "outputs": [],
   "source": [
    "class ScalePoisson(Crappifier):\n",
    "    def __init__(self, downres : int, intensity : float = 1, gain : float = 0):\n",
    "        self.downres = downres\n",
    "        self.intensity = intensity\n",
    "        self.gain = gain\n",
    "\n",
    "        self.resample = Image.Resampling.BICUBIC\n",
    "        \n",
    "    def crappify(self, image : np.ndarray):\n",
    "        image = np.clip(self._interpolate(image, np.random.poisson(image/255*image.max())/image.max()*255) + self.gain, 0, 255)\n",
    "        return np.asarray(Image.fromarray(image).resize([self.downres]*2, resample=self.resample).resize(image.shape, resample=self.resample))\n",
    "    \n",
    "    def _interpolate(self, x, y):\n",
    "        return x * (1 - self.intensity) + y * self.intensity\n",
    "    \n",
    "crappifier = ScalePoisson(125, 1, 0)"
   ]
  },
  {
   "cell_type": "code",
   "execution_count": 5,
   "metadata": {},
   "outputs": [],
   "source": [
    "val_dataset = ImageDataset(\"testdata/EM_hr_crop\", hr_res=512, crappifier=crappifier, val_split=.1, rotation=False)\n",
    "test_dataset = PairedImageDataset(\"testdata/EM_pairs_crop/hr\", \"testdata/EM_pairs_crop/lr\", rotation=False)"
   ]
  },
  {
   "cell_type": "code",
   "execution_count": 6,
   "metadata": {},
   "outputs": [],
   "source": [
    "model = ResUNet(\n",
    "    channels=1,\n",
    "    hidden=[64, 128, 256, 512, 1024],\n",
    "    scale=lr_scale,\n",
    "    depth=3,\n",
    ")"
   ]
  },
  {
   "cell_type": "code",
   "execution_count": 7,
   "metadata": {},
   "outputs": [],
   "source": [
    "batch_size = 16\n",
    "device = \"cuda\" if torch.cuda.is_available() else \"cpu\"\n",
    "\n",
    "kwargs = dict(\n",
    "    num_workers = 4,\n",
    "    pin_memory = True,\n",
    ")"
   ]
  },
  {
   "cell_type": "code",
   "execution_count": 8,
   "metadata": {},
   "outputs": [
    {
     "data": {
      "text/plain": [
       "<All keys matched successfully>"
      ]
     },
     "execution_count": 8,
     "metadata": {},
     "output_type": "execute_result"
    }
   ],
   "source": [
    "model.load_state_dict(torch.load(\"trained/poisson_scale_512_.6_0.075.pth\"))"
   ]
  },
  {
   "cell_type": "code",
   "execution_count": 9,
   "metadata": {},
   "outputs": [],
   "source": [
    "predict_collage(model, val_dataset, batch_size, n_images, device, prefix=\"val\", dataloader_kwargs=kwargs)\n",
    "predict_collage(model, test_dataset, batch_size, 42, device, prefix=\"test\", dataloader_kwargs=kwargs)"
   ]
  },
  {
   "cell_type": "code",
   "execution_count": 10,
   "metadata": {},
   "outputs": [],
   "source": [
    "predict_images(model, test_dataset, device, out_dir=\"preds/poisson/outs\", out_res=500)"
   ]
  },
  {
   "cell_type": "code",
   "execution_count": 11,
   "metadata": {},
   "outputs": [
    {
     "name": "stderr",
     "output_type": "stream",
     "text": [
      "  0%|          | 0/42 [00:00<?, ?it/s]"
     ]
    },
    {
     "name": "stderr",
     "output_type": "stream",
     "text": [
      "100%|██████████| 42/42 [00:00<00:00, 63.09it/s]\n"
     ]
    },
    {
     "data": {
      "text/plain": [
       "{'mse': 0.003279957717971965,\n",
       " 'pixel': 14.526859811883154,\n",
       " 'psnr': 21.13236667996361,\n",
       " 'ssim': 0.5753835723513648}"
      ]
     },
     "execution_count": 11,
     "metadata": {},
     "output_type": "execute_result"
    }
   ],
   "source": [
    "metrics = [\"mse\", \"pixel\", \"psnr\", \"ssim\"]\n",
    "test_metrics(model, test_dataset, 1, metrics, device, dataloader_kwargs=kwargs)"
   ]
  }
 ],
 "metadata": {
  "kernelspec": {
   "display_name": "base",
   "language": "python",
   "name": "python3"
  },
  "language_info": {
   "codemirror_mode": {
    "name": "ipython",
    "version": 3
   },
   "file_extension": ".py",
   "mimetype": "text/x-python",
   "name": "python",
   "nbconvert_exporter": "python",
   "pygments_lexer": "ipython3",
   "version": "3.11.4"
  }
 },
 "nbformat": 4,
 "nbformat_minor": 2
}
