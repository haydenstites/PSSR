{
 "cells": [
  {
   "cell_type": "code",
   "execution_count": null,
   "metadata": {},
   "outputs": [],
   "source": [
    "from skopt.space import Real\n",
    "from pssr.crappifiers import AdditiveGaussian, Poisson\n",
    "from pssr.data import ImageDataset, PairedImageDataset\n",
    "from pssr.train import approximate_crappifier, predict_collage"
   ]
  },
  {
   "cell_type": "code",
   "execution_count": null,
   "metadata": {},
   "outputs": [],
   "source": [
    "# gaussian_crappifier = AdditiveGaussian(mean=0, deviation=5)\n",
    "# poisson_crappifier = Poisson(intensity=1.5)\n",
    "\n",
    "# dataset = ImageDataset(\"data/EM_hr_1_10\", crappifier=poisson_crappifier)"
   ]
  },
  {
   "cell_type": "code",
   "execution_count": null,
   "metadata": {},
   "outputs": [],
   "source": [
    "dataset = PairedImageDataset(\"data/crappifier/HR\", \"data/crappifier/LR\", hr_res=480, lr_res=120)"
   ]
  },
  {
   "cell_type": "code",
   "execution_count": null,
   "metadata": {},
   "outputs": [],
   "source": [
    "# -2, 13\n",
    "gaussian_space = [Real(-5, 5),\n",
    "         Real(0, 15),\n",
    "]\n",
    "\n",
    "# -2, 1\n",
    "poisson_space = [Real(-5, 5),\n",
    "         Real(0, 5),\n",
    "]"
   ]
  },
  {
   "cell_type": "code",
   "execution_count": null,
   "metadata": {},
   "outputs": [],
   "source": [
    "crappfier = AdditiveGaussian\n",
    "space = gaussian_space\n",
    "\n",
    "# crappfier = Poisson\n",
    "# space = poisson_space"
   ]
  },
  {
   "cell_type": "code",
   "execution_count": null,
   "metadata": {},
   "outputs": [],
   "source": [
    "result = approximate_crappifier(crappfier, space, dataset, n_samples=32, opt_kwargs=dict(n_calls=100, n_initial_points=10))"
   ]
  },
  {
   "cell_type": "code",
   "execution_count": null,
   "metadata": {},
   "outputs": [],
   "source": [
    "result.x"
   ]
  },
  {
   "cell_type": "code",
   "execution_count": null,
   "metadata": {},
   "outputs": [],
   "source": [
    "crappfier = crappfier(*result.x)"
   ]
  },
  {
   "cell_type": "code",
   "execution_count": null,
   "metadata": {},
   "outputs": [],
   "source": [
    "import numpy as np\n",
    "from PIL import Image\n",
    "\n",
    "def _collage_preds(lr, hr_hat, hr, image_range : int = 255, max_images : int = 5):\n",
    "    lr, hr_hat, hr = [_image_stack(data, image_range, max_images) for data in (lr, hr_hat, hr)]\n",
    "    lr = lr.resize((hr.width, hr.height), Image.Resampling.NEAREST)\n",
    "    if hr_hat.size != hr.size:\n",
    "         hr_hat = hr_hat.resize((hr.width, hr.height), Image.Resampling.NEAREST)\n",
    "\n",
    "    return _image_stack([lr, hr_hat, hr], image_range, raw=False)\n",
    "\n",
    "def _image_stack(data, image_range, max_images : int = 5, raw : bool = True):\n",
    "    images = [Image.fromarray(image, mode=\"L\") for image in (np.clip(data.detach().cpu().numpy()[:min(max_images, len(data)), 0], 0, image_range)*(255//image_range)).astype(np.uint8)] if raw else data\n",
    "    width, height = images[0].width, images[0].height\n",
    "    stack = Image.new(\"L\", (width, height*len(images))) if raw else Image.new(\"L\", (width*len(images), height))\n",
    "    for idx, image in enumerate(images):\n",
    "        if raw:\n",
    "            stack.paste(image, (0, height*idx))\n",
    "        else:\n",
    "            stack.paste(image, (width*idx, 0))\n",
    "    return stack"
   ]
  },
  {
   "cell_type": "code",
   "execution_count": null,
   "metadata": {},
   "outputs": [],
   "source": [
    "import torch, os\n",
    "from torch.utils.data import DataLoader\n",
    "\n",
    "prefix = \"gaussian\"\n",
    "n_images = 8\n",
    "batch_size = 8\n",
    "\n",
    "train_dataloader = DataLoader(dataset, batch_size)\n",
    "\n",
    "collage = Image.new(\"L\", (dataset.hr_res*3, dataset.hr_res*n_images))\n",
    "remaining = n_images\n",
    "for idx, (hr, lr) in enumerate(train_dataloader):\n",
    "    images = [torch.tensor(np.asarray(Image.fromarray(hr[0].numpy()).resize([dataset.lr_res]*2, Image.Resampling.BILINEAR))) for hr in hr]\n",
    "    images = torch.stack(images).unsqueeze(1)\n",
    "    images = crappfier.crappify(images)\n",
    "    \n",
    "    collage.paste(_collage_preds(lr, images, hr, 255, min(remaining, batch_size)), (0, dataset.hr_res*batch_size*idx))\n",
    "\n",
    "    remaining -= batch_size\n",
    "    if remaining <= 0:\n",
    "        break\n",
    "\n",
    "os.makedirs(\"preds\", exist_ok=True)\n",
    "collage.save(f\"preds/{prefix}collage{n_images}.png\")"
   ]
  }
 ],
 "metadata": {
  "kernelspec": {
   "display_name": "base",
   "language": "python",
   "name": "python3"
  },
  "language_info": {
   "codemirror_mode": {
    "name": "ipython",
    "version": 3
   },
   "file_extension": ".py",
   "mimetype": "text/x-python",
   "name": "python",
   "nbconvert_exporter": "python",
   "pygments_lexer": "ipython3",
   "version": "3.11.4"
  }
 },
 "nbformat": 4,
 "nbformat_minor": 2
}
