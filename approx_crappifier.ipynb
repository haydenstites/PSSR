{
 "cells": [
  {
   "cell_type": "code",
   "execution_count": 1,
   "metadata": {},
   "outputs": [],
   "source": [
    "import numpy as np\n",
    "from PIL import Image\n",
    "from skopt.space import Real\n",
    "from pssr.crappifiers import AdditiveGaussian, Poisson, Crappifier\n",
    "from pssr.data import PairedImageDataset\n",
    "from pssr.train import approximate_crappifier\n",
    "from pssr.predict import predict_collage"
   ]
  },
  {
   "cell_type": "code",
   "execution_count": 2,
   "metadata": {},
   "outputs": [],
   "source": [
    "# gaussian_crappifier = AdditiveGaussian(mean=0, deviation=5)\n",
    "# poisson_crappifier = Poisson(intensity=1.5)\n",
    "\n",
    "# dataset = ImageDataset(\"data/EM_hr_1_10\", crappifier=poisson_crappifier)"
   ]
  },
  {
   "cell_type": "code",
   "execution_count": 3,
   "metadata": {},
   "outputs": [],
   "source": [
    "dataset = PairedImageDataset(\"testdata/EM_pairs_crop/hr\", \"testdata/EM_pairs_crop/lr\", hr_res=512, lr_res=128, rotation=False)"
   ]
  },
  {
   "cell_type": "code",
   "execution_count": 4,
   "metadata": {},
   "outputs": [],
   "source": [
    "# 13, -2\n",
    "gaussian_space = [Real(0, 15),\n",
    "         Real(-5, 5),\n",
    "]\n",
    "\n",
    "# 1, -2\n",
    "poisson_space = [Real(0, 5),\n",
    "         Real(-5, 5),\n",
    "]"
   ]
  },
  {
   "cell_type": "code",
   "execution_count": 5,
   "metadata": {},
   "outputs": [],
   "source": [
    "crappfier = AdditiveGaussian\n",
    "space = gaussian_space\n",
    "\n",
    "# crappfier = Poisson\n",
    "# space = poisson_space"
   ]
  },
  {
   "cell_type": "code",
   "execution_count": 6,
   "metadata": {},
   "outputs": [],
   "source": [
    "# result = approximate_crappifier(crappfier, space, dataset, n_samples=42, opt_kwargs=dict(n_calls=100, n_initial_points=10))"
   ]
  },
  {
   "cell_type": "code",
   "execution_count": 7,
   "metadata": {},
   "outputs": [],
   "source": [
    "# result.x"
   ]
  },
  {
   "cell_type": "code",
   "execution_count": 9,
   "metadata": {},
   "outputs": [],
   "source": [
    "# crappfier = crappfier(*result.x)\n",
    "# crappfier = Poisson(1, -10)"
   ]
  },
  {
   "cell_type": "code",
   "execution_count": 10,
   "metadata": {},
   "outputs": [],
   "source": [
    "import numpy as np\n",
    "from PIL import Image\n",
    "\n",
    "def _collage_preds(lr, hr_hat, hr, image_range : int = 255, max_images : int = 5):\n",
    "    lr, hr_hat, hr = [_image_stack(data, image_range, max_images) for data in (lr, hr_hat, hr)]\n",
    "    lr = lr.resize((hr.width, hr.height), Image.Resampling.NEAREST)\n",
    "    if hr_hat.size != hr.size:\n",
    "         hr_hat = hr_hat.resize((hr.width, hr.height), Image.Resampling.NEAREST)\n",
    "\n",
    "    return _image_stack([lr, hr_hat, hr], image_range, raw=False)\n",
    "\n",
    "def _image_stack(data, image_range, max_images : int = 5, raw : bool = True):\n",
    "    images = [Image.fromarray(image, mode=\"L\") for image in (np.clip(data.detach().cpu().numpy()[:min(max_images, len(data)), 0], 0, image_range)*(255//image_range)).astype(np.uint8)] if raw else data\n",
    "    width, height = images[0].width, images[0].height\n",
    "    stack = Image.new(\"L\", (width, height*len(images))) if raw else Image.new(\"L\", (width*len(images), height))\n",
    "    for idx, image in enumerate(images):\n",
    "        if raw:\n",
    "            stack.paste(image, (0, height*idx))\n",
    "        else:\n",
    "            stack.paste(image, (width*idx, 0))\n",
    "    return stack"
   ]
  },
  {
   "cell_type": "code",
   "execution_count": 11,
   "metadata": {},
   "outputs": [
    {
     "name": "stdout",
     "output_type": "stream",
     "text": [
      "torch.Size([8, 1, 128, 128])\n"
     ]
    },
    {
     "ename": "TypeError",
     "evalue": "Cannot handle this data type: (1, 1, 128, 128), |u1",
     "output_type": "error",
     "traceback": [
      "\u001b[0;31m---------------------------------------------------------------------------\u001b[0m",
      "\u001b[0;31mKeyError\u001b[0m                                  Traceback (most recent call last)",
      "File \u001b[0;32m~/anaconda3/lib/python3.11/site-packages/PIL/Image.py:3080\u001b[0m, in \u001b[0;36mfromarray\u001b[0;34m(obj, mode)\u001b[0m\n\u001b[1;32m   3079\u001b[0m \u001b[38;5;28;01mtry\u001b[39;00m:\n\u001b[0;32m-> 3080\u001b[0m     mode, rawmode \u001b[38;5;241m=\u001b[39m _fromarray_typemap[typekey]\n\u001b[1;32m   3081\u001b[0m \u001b[38;5;28;01mexcept\u001b[39;00m \u001b[38;5;167;01mKeyError\u001b[39;00m \u001b[38;5;28;01mas\u001b[39;00m e:\n",
      "\u001b[0;31mKeyError\u001b[0m: ((1, 1, 128, 128), '|u1')",
      "\nThe above exception was the direct cause of the following exception:\n",
      "\u001b[0;31mTypeError\u001b[0m                                 Traceback (most recent call last)",
      "Cell \u001b[0;32mIn[11], line 15\u001b[0m\n\u001b[1;32m     13\u001b[0m images \u001b[38;5;241m=\u001b[39m [torch\u001b[38;5;241m.\u001b[39mtensor(np\u001b[38;5;241m.\u001b[39masarray(Image\u001b[38;5;241m.\u001b[39mfromarray(hr[\u001b[38;5;241m0\u001b[39m]\u001b[38;5;241m.\u001b[39mnumpy())\u001b[38;5;241m.\u001b[39mresize([dataset\u001b[38;5;241m.\u001b[39mlr_res]\u001b[38;5;241m*\u001b[39m\u001b[38;5;241m2\u001b[39m, Image\u001b[38;5;241m.\u001b[39mResampling\u001b[38;5;241m.\u001b[39mBILINEAR))) \u001b[38;5;28;01mfor\u001b[39;00m hr \u001b[38;5;129;01min\u001b[39;00m hr]\n\u001b[1;32m     14\u001b[0m images \u001b[38;5;241m=\u001b[39m torch\u001b[38;5;241m.\u001b[39mstack(images)\u001b[38;5;241m.\u001b[39munsqueeze(\u001b[38;5;241m1\u001b[39m)\n\u001b[0;32m---> 15\u001b[0m images \u001b[38;5;241m=\u001b[39m crappfier\u001b[38;5;241m.\u001b[39mcrappify(images)\n\u001b[1;32m     17\u001b[0m collage\u001b[38;5;241m.\u001b[39mpaste(_collage_preds(lr, images, hr, \u001b[38;5;241m255\u001b[39m, \u001b[38;5;28mmin\u001b[39m(remaining, batch_size)), (\u001b[38;5;241m0\u001b[39m, dataset\u001b[38;5;241m.\u001b[39mhr_res\u001b[38;5;241m*\u001b[39mbatch_size\u001b[38;5;241m*\u001b[39midx))\n\u001b[1;32m     19\u001b[0m remaining \u001b[38;5;241m-\u001b[39m\u001b[38;5;241m=\u001b[39m batch_size\n",
      "Cell \u001b[0;32mIn[8], line 12\u001b[0m, in \u001b[0;36mScalePoisson.crappify\u001b[0;34m(self, image)\u001b[0m\n\u001b[1;32m     10\u001b[0m \u001b[38;5;28mprint\u001b[39m(image\u001b[38;5;241m.\u001b[39mshape)\n\u001b[1;32m     11\u001b[0m image \u001b[38;5;241m=\u001b[39m np\u001b[38;5;241m.\u001b[39mclip(\u001b[38;5;28mself\u001b[39m\u001b[38;5;241m.\u001b[39m_interpolate(image, np\u001b[38;5;241m.\u001b[39mrandom\u001b[38;5;241m.\u001b[39mpoisson(image\u001b[38;5;241m/\u001b[39m\u001b[38;5;241m255\u001b[39m\u001b[38;5;241m*\u001b[39mimage\u001b[38;5;241m.\u001b[39mmax())\u001b[38;5;241m/\u001b[39mimage\u001b[38;5;241m.\u001b[39mmax()\u001b[38;5;241m*\u001b[39m\u001b[38;5;241m255\u001b[39m) \u001b[38;5;241m+\u001b[39m \u001b[38;5;28mself\u001b[39m\u001b[38;5;241m.\u001b[39mgain, \u001b[38;5;241m0\u001b[39m, \u001b[38;5;241m255\u001b[39m)\n\u001b[0;32m---> 12\u001b[0m \u001b[38;5;28;01mreturn\u001b[39;00m np\u001b[38;5;241m.\u001b[39masarray(Image\u001b[38;5;241m.\u001b[39mfromarray(np\u001b[38;5;241m.\u001b[39masarray(image, dtype\u001b[38;5;241m=\u001b[39mnp\u001b[38;5;241m.\u001b[39muint8))\u001b[38;5;241m.\u001b[39mresize([\u001b[38;5;28mself\u001b[39m\u001b[38;5;241m.\u001b[39mdownres]\u001b[38;5;241m*\u001b[39m\u001b[38;5;241m2\u001b[39m, resample\u001b[38;5;241m=\u001b[39m\u001b[38;5;28mself\u001b[39m\u001b[38;5;241m.\u001b[39mresample)\u001b[38;5;241m.\u001b[39mresize(image\u001b[38;5;241m.\u001b[39msize, resample\u001b[38;5;241m=\u001b[39m\u001b[38;5;28mself\u001b[39m\u001b[38;5;241m.\u001b[39mresample))\n",
      "File \u001b[0;32m~/anaconda3/lib/python3.11/site-packages/PIL/Image.py:3083\u001b[0m, in \u001b[0;36mfromarray\u001b[0;34m(obj, mode)\u001b[0m\n\u001b[1;32m   3081\u001b[0m     \u001b[38;5;28;01mexcept\u001b[39;00m \u001b[38;5;167;01mKeyError\u001b[39;00m \u001b[38;5;28;01mas\u001b[39;00m e:\n\u001b[1;32m   3082\u001b[0m         msg \u001b[38;5;241m=\u001b[39m \u001b[38;5;124m\"\u001b[39m\u001b[38;5;124mCannot handle this data type: \u001b[39m\u001b[38;5;132;01m%s\u001b[39;00m\u001b[38;5;124m, \u001b[39m\u001b[38;5;132;01m%s\u001b[39;00m\u001b[38;5;124m\"\u001b[39m \u001b[38;5;241m%\u001b[39m typekey\n\u001b[0;32m-> 3083\u001b[0m         \u001b[38;5;28;01mraise\u001b[39;00m \u001b[38;5;167;01mTypeError\u001b[39;00m(msg) \u001b[38;5;28;01mfrom\u001b[39;00m \u001b[38;5;21;01me\u001b[39;00m\n\u001b[1;32m   3084\u001b[0m \u001b[38;5;28;01melse\u001b[39;00m:\n\u001b[1;32m   3085\u001b[0m     rawmode \u001b[38;5;241m=\u001b[39m mode\n",
      "\u001b[0;31mTypeError\u001b[0m: Cannot handle this data type: (1, 1, 128, 128), |u1"
     ]
    }
   ],
   "source": [
    "import torch, os\n",
    "from torch.utils.data import DataLoader\n",
    "\n",
    "prefix = \"poisson\"\n",
    "n_images = 8\n",
    "batch_size = 8\n",
    "\n",
    "train_dataloader = DataLoader(dataset, batch_size, sampler=range(0, dataset.val_len))\n",
    "\n",
    "collage = Image.new(\"L\", (dataset.hr_res*3, dataset.hr_res*n_images))\n",
    "remaining = n_images\n",
    "for idx, (hr, lr) in enumerate(train_dataloader):\n",
    "    images = [torch.tensor(np.asarray(Image.fromarray(hr[0].numpy()).resize([dataset.lr_res]*2, Image.Resampling.BILINEAR))) for hr in hr]\n",
    "    images = torch.stack(images).unsqueeze(1)\n",
    "    images = crappfier.crappify(images)\n",
    "    \n",
    "    collage.paste(_collage_preds(lr, images, hr, 255, min(remaining, batch_size)), (0, dataset.hr_res*batch_size*idx))\n",
    "\n",
    "    remaining -= batch_size\n",
    "    if remaining <= 0:\n",
    "        break\n",
    "\n",
    "os.makedirs(\"preds\", exist_ok=True)\n",
    "collage.save(f\"preds/{prefix}collage{n_images}.png\")"
   ]
  }
 ],
 "metadata": {
  "kernelspec": {
   "display_name": "base",
   "language": "python",
   "name": "python3"
  },
  "language_info": {
   "codemirror_mode": {
    "name": "ipython",
    "version": 3
   },
   "file_extension": ".py",
   "mimetype": "text/x-python",
   "name": "python",
   "nbconvert_exporter": "python",
   "pygments_lexer": "ipython3",
   "version": "3.11.4"
  }
 },
 "nbformat": 4,
 "nbformat_minor": 2
}
