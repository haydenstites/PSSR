{
 "cells": [
  {
   "cell_type": "code",
   "execution_count": null,
   "metadata": {},
   "outputs": [],
   "source": [
    "from skopt.space import Real\n",
    "from pssr.crappifiers import AdditiveGaussian, Poisson\n",
    "from pssr.data import ImageDataset\n",
    "from pssr.train import approximate_crappifier"
   ]
  },
  {
   "cell_type": "code",
   "execution_count": null,
   "metadata": {},
   "outputs": [],
   "source": [
    "gaussian_crappifier = AdditiveGaussian(mean=0, deviation=5)\n",
    "poisson_crappifier = Poisson(intensity=1.5)\n",
    "\n",
    "dataset = ImageDataset(\"data/EM_hr_1_10\", crappifier=poisson_crappifier)"
   ]
  },
  {
   "cell_type": "code",
   "execution_count": null,
   "metadata": {},
   "outputs": [],
   "source": [
    "gaussian_space = [Real(-3, 3),\n",
    "         Real(0, 10),\n",
    "]\n",
    "\n",
    "poisson_space = Real(0, 3)"
   ]
  },
  {
   "cell_type": "code",
   "execution_count": null,
   "metadata": {},
   "outputs": [],
   "source": [
    "result = approximate_crappifier(Poisson, poisson_space, dataset, n_samples=10, opt_kwargs=dict(n_calls=100, n_initial_points=10))"
   ]
  }
 ],
 "metadata": {
  "kernelspec": {
   "display_name": "base",
   "language": "python",
   "name": "python3"
  },
  "language_info": {
   "codemirror_mode": {
    "name": "ipython",
    "version": 3
   },
   "file_extension": ".py",
   "mimetype": "text/x-python",
   "name": "python",
   "nbconvert_exporter": "python",
   "pygments_lexer": "ipython3",
   "version": "3.11.4"
  }
 },
 "nbformat": 4,
 "nbformat_minor": 2
}
